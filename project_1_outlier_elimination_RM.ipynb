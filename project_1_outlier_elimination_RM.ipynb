{
 "cells": [
  {
   "cell_type": "code",
   "execution_count": 1,
   "metadata": {},
   "outputs": [],
   "source": [
    "import pandas as pd\n",
    "import numpy as np\n",
    "from numpy import mean\n",
    "from numpy import std\n",
    "import matplotlib.pyplot as plt\n",
    "import seaborn as sns\n",
    "import statsmodels.api as sm\n",
    "import math\n",
    "%matplotlib inline"
   ]
  },
  {
   "cell_type": "code",
   "execution_count": 2,
   "metadata": {},
   "outputs": [
    {
     "data": {
      "text/html": [
       "<div>\n",
       "<style scoped>\n",
       "    .dataframe tbody tr th:only-of-type {\n",
       "        vertical-align: middle;\n",
       "    }\n",
       "\n",
       "    .dataframe tbody tr th {\n",
       "        vertical-align: top;\n",
       "    }\n",
       "\n",
       "    .dataframe thead th {\n",
       "        text-align: right;\n",
       "    }\n",
       "</style>\n",
       "<table border=\"1\" class=\"dataframe\">\n",
       "  <thead>\n",
       "    <tr style=\"text-align: right;\">\n",
       "      <th></th>\n",
       "      <th>id</th>\n",
       "      <th>date</th>\n",
       "      <th>price</th>\n",
       "      <th>bedrooms</th>\n",
       "      <th>bathrooms</th>\n",
       "      <th>sqft_living</th>\n",
       "      <th>sqft_lot</th>\n",
       "      <th>floors</th>\n",
       "      <th>waterfront</th>\n",
       "      <th>view</th>\n",
       "      <th>...</th>\n",
       "      <th>zipcode</th>\n",
       "      <th>lat</th>\n",
       "      <th>long</th>\n",
       "      <th>sqft_living15</th>\n",
       "      <th>sqft_lot15</th>\n",
       "      <th>date_key</th>\n",
       "      <th>Compounding</th>\n",
       "      <th>Discounting</th>\n",
       "      <th>price_dec_15</th>\n",
       "      <th>price_dec_19</th>\n",
       "    </tr>\n",
       "  </thead>\n",
       "  <tbody>\n",
       "    <tr>\n",
       "      <td>0</td>\n",
       "      <td>5056500260</td>\n",
       "      <td>5/2/2014</td>\n",
       "      <td>440000.0</td>\n",
       "      <td>4</td>\n",
       "      <td>2.25</td>\n",
       "      <td>2160</td>\n",
       "      <td>8119</td>\n",
       "      <td>1.0</td>\n",
       "      <td>0.0</td>\n",
       "      <td>0.0</td>\n",
       "      <td>...</td>\n",
       "      <td>98006</td>\n",
       "      <td>47.5443</td>\n",
       "      <td>-122.177</td>\n",
       "      <td>1850</td>\n",
       "      <td>9000</td>\n",
       "      <td>2014-05-02</td>\n",
       "      <td>1.109072</td>\n",
       "      <td>0.901654</td>\n",
       "      <td>487991.86</td>\n",
       "      <td>598799.49</td>\n",
       "    </tr>\n",
       "    <tr>\n",
       "      <td>1</td>\n",
       "      <td>4040800810</td>\n",
       "      <td>5/2/2014</td>\n",
       "      <td>420000.0</td>\n",
       "      <td>3</td>\n",
       "      <td>2.25</td>\n",
       "      <td>2000</td>\n",
       "      <td>8030</td>\n",
       "      <td>1.0</td>\n",
       "      <td>0.0</td>\n",
       "      <td>0.0</td>\n",
       "      <td>...</td>\n",
       "      <td>98008</td>\n",
       "      <td>47.6188</td>\n",
       "      <td>-122.114</td>\n",
       "      <td>2070</td>\n",
       "      <td>8250</td>\n",
       "      <td>2014-05-02</td>\n",
       "      <td>1.109072</td>\n",
       "      <td>0.901654</td>\n",
       "      <td>465810.41</td>\n",
       "      <td>571581.33</td>\n",
       "    </tr>\n",
       "    <tr>\n",
       "      <td>2</td>\n",
       "      <td>7197300105</td>\n",
       "      <td>5/2/2014</td>\n",
       "      <td>550000.0</td>\n",
       "      <td>4</td>\n",
       "      <td>2.50</td>\n",
       "      <td>1940</td>\n",
       "      <td>10500</td>\n",
       "      <td>1.0</td>\n",
       "      <td>0.0</td>\n",
       "      <td>0.0</td>\n",
       "      <td>...</td>\n",
       "      <td>98052</td>\n",
       "      <td>47.6830</td>\n",
       "      <td>-122.114</td>\n",
       "      <td>2200</td>\n",
       "      <td>10500</td>\n",
       "      <td>2014-05-02</td>\n",
       "      <td>1.109072</td>\n",
       "      <td>0.901654</td>\n",
       "      <td>609989.82</td>\n",
       "      <td>748499.37</td>\n",
       "    </tr>\n",
       "    <tr>\n",
       "      <td>3</td>\n",
       "      <td>5100401414</td>\n",
       "      <td>5/2/2014</td>\n",
       "      <td>490000.0</td>\n",
       "      <td>2</td>\n",
       "      <td>1.00</td>\n",
       "      <td>880</td>\n",
       "      <td>6380</td>\n",
       "      <td>1.0</td>\n",
       "      <td>0.0</td>\n",
       "      <td>0.0</td>\n",
       "      <td>...</td>\n",
       "      <td>98115</td>\n",
       "      <td>47.6924</td>\n",
       "      <td>-122.322</td>\n",
       "      <td>1340</td>\n",
       "      <td>6380</td>\n",
       "      <td>2014-05-02</td>\n",
       "      <td>1.109072</td>\n",
       "      <td>0.901654</td>\n",
       "      <td>543445.48</td>\n",
       "      <td>666844.89</td>\n",
       "    </tr>\n",
       "    <tr>\n",
       "      <td>4</td>\n",
       "      <td>7525100520</td>\n",
       "      <td>5/2/2014</td>\n",
       "      <td>335000.0</td>\n",
       "      <td>2</td>\n",
       "      <td>2.00</td>\n",
       "      <td>1350</td>\n",
       "      <td>2560</td>\n",
       "      <td>1.0</td>\n",
       "      <td>0.0</td>\n",
       "      <td>0.0</td>\n",
       "      <td>...</td>\n",
       "      <td>98052</td>\n",
       "      <td>47.6344</td>\n",
       "      <td>-122.107</td>\n",
       "      <td>1790</td>\n",
       "      <td>2560</td>\n",
       "      <td>2014-05-02</td>\n",
       "      <td>1.109072</td>\n",
       "      <td>0.901654</td>\n",
       "      <td>371539.25</td>\n",
       "      <td>455904.16</td>\n",
       "    </tr>\n",
       "  </tbody>\n",
       "</table>\n",
       "<p>5 rows × 26 columns</p>\n",
       "</div>"
      ],
      "text/plain": [
       "           id      date     price  bedrooms  bathrooms  sqft_living  sqft_lot  \\\n",
       "0  5056500260  5/2/2014  440000.0         4       2.25         2160      8119   \n",
       "1  4040800810  5/2/2014  420000.0         3       2.25         2000      8030   \n",
       "2  7197300105  5/2/2014  550000.0         4       2.50         1940     10500   \n",
       "3  5100401414  5/2/2014  490000.0         2       1.00          880      6380   \n",
       "4  7525100520  5/2/2014  335000.0         2       2.00         1350      2560   \n",
       "\n",
       "   floors  waterfront  view  ...  zipcode      lat     long  sqft_living15  \\\n",
       "0     1.0         0.0   0.0  ...    98006  47.5443 -122.177           1850   \n",
       "1     1.0         0.0   0.0  ...    98008  47.6188 -122.114           2070   \n",
       "2     1.0         0.0   0.0  ...    98052  47.6830 -122.114           2200   \n",
       "3     1.0         0.0   0.0  ...    98115  47.6924 -122.322           1340   \n",
       "4     1.0         0.0   0.0  ...    98052  47.6344 -122.107           1790   \n",
       "\n",
       "   sqft_lot15    date_key  Compounding  Discounting  price_dec_15  \\\n",
       "0        9000  2014-05-02     1.109072     0.901654     487991.86   \n",
       "1        8250  2014-05-02     1.109072     0.901654     465810.41   \n",
       "2       10500  2014-05-02     1.109072     0.901654     609989.82   \n",
       "3        6380  2014-05-02     1.109072     0.901654     543445.48   \n",
       "4        2560  2014-05-02     1.109072     0.901654     371539.25   \n",
       "\n",
       "   price_dec_19  \n",
       "0     598799.49  \n",
       "1     571581.33  \n",
       "2     748499.37  \n",
       "3     666844.89  \n",
       "4     455904.16  \n",
       "\n",
       "[5 rows x 26 columns]"
      ]
     },
     "execution_count": 2,
     "metadata": {},
     "output_type": "execute_result"
    }
   ],
   "source": [
    "df = pd.read_csv(\"kc_housing_data_cleaned_with_15_19_prices.csv\")\n",
    "df.head()"
   ]
  },
  {
   "cell_type": "markdown",
   "metadata": {},
   "source": [
    "### Seeing how many outliers exist in the data set for any given variable."
   ]
  },
  {
   "cell_type": "code",
   "execution_count": 8,
   "metadata": {},
   "outputs": [
    {
     "data": {
      "image/png": "[encoded data removed]",
      "text/plain": [
       "<Figure size 432x288 with 1 Axes>"
      ]
     },
     "metadata": {
      "needs_background": "light"
     },
     "output_type": "display_data"
    }
   ],
   "source": [
    "sns.boxplot(x = df['sqft_living'])\n",
    "plt.show()"
   ]
  },
  {
   "cell_type": "code",
   "execution_count": 4,
   "metadata": {},
   "outputs": [
    {
     "name": "stdout",
     "output_type": "stream",
     "text": [
      "4839.493524661104\n",
      "Identified outliers: 247\n",
      "Non-outlier observations: 21173\n"
     ]
    }
   ],
   "source": [
    "# calculate summary statistics\n",
    "variable = 'sqft_living'\n",
    "data_mean, data_std = mean(df[variable]), std(df[variable])\n",
    "# identify outliers\n",
    "cut_off = data_std * 3\n",
    "lower, upper = data_mean - cut_off, data_mean + cut_off\n",
    "print(upper)\n",
    "# identify outliers\n",
    "outliers = [x for x in df[variable] if x < lower or x > upper]\n",
    "print('Identified outliers: %d' % len(outliers))\n",
    "# remove outliers\n",
    "outliers_removed = [x for x in df[variable] if x >= lower and x <= upper]\n",
    "print('Non-outlier observations: %d' % len(outliers_removed))"
   ]
  },
  {
   "cell_type": "markdown",
   "metadata": {},
   "source": [
    "### Making a copy of the original data frame."
   ]
  },
  {
   "cell_type": "code",
   "execution_count": 5,
   "metadata": {},
   "outputs": [],
   "source": [
    "df_original = df.copy()"
   ]
  },
  {
   "cell_type": "markdown",
   "metadata": {},
   "source": [
    "### Removing rows in the data frame that contain outliers for the variable in question."
   ]
  },
  {
   "cell_type": "code",
   "execution_count": 6,
   "metadata": {},
   "outputs": [
    {
     "name": "stdout",
     "output_type": "stream",
     "text": [
      "20902\n"
     ]
    }
   ],
   "source": [
    "variable = 'bedrooms'\n",
    "data_mean, data_std = mean(df[variable]), std(df[variable])\n",
    "cut_off = data_std * 2\n",
    "\n",
    "for i in range(len(df)):\n",
    "    if df.loc[i,variable] < (data_mean - cut_off) or df.loc[i,variable] > (data_mean + cut_off):\n",
    "        df.drop([i], inplace=True)\n",
    "    else:\n",
    "        continue\n",
    "\n",
    "print(len(df))"
   ]
  },
  {
   "cell_type": "markdown",
   "metadata": {},
   "source": [
    "### Exporting as a new .csv file."
   ]
  },
  {
   "cell_type": "code",
   "execution_count": 7,
   "metadata": {},
   "outputs": [],
   "source": [
    "# df.to_csv('kc_housing_data_cleaned_outliers_removed.csv')"
   ]
  }
 ],
 "metadata": {
  "kernelspec": {
   "display_name": "Python 3",
   "language": "python",
   "name": "python3"
  },
  "language_info": {
   "codemirror_mode": {
    "name": "ipython",
    "version": 3
   },
   "file_extension": ".py",
   "mimetype": "text/x-python",
   "name": "python",
   "nbconvert_exporter": "python",
   "pygments_lexer": "ipython3",
   "version": "3.7.4"
  }
 },
 "nbformat": 4,
 "nbformat_minor": 2
}
