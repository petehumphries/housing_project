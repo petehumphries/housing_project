{
 "cells": [
  {
   "cell_type": "markdown",
   "metadata": {},
   "source": [
    "### Importing python libraries and the cleaned dataset .csv file."
   ]
  },
  {
   "cell_type": "code",
   "execution_count": 31,
   "metadata": {},
   "outputs": [],
   "source": [
    "import pandas as pd\n",
    "import numpy as np\n",
    "from numpy import mean\n",
    "from numpy import std\n",
    "import matplotlib.pyplot as plt\n",
    "import seaborn as sns\n",
    "import statsmodels.api as sm\n",
    "import math\n",
    "%matplotlib inline"
   ]
  },
  {
   "cell_type": "code",
   "execution_count": 32,
   "metadata": {},
   "outputs": [
    {
     "data": {
      "text/html": [
       "<div>\n",
       "<style scoped>\n",
       "    .dataframe tbody tr th:only-of-type {\n",
       "        vertical-align: middle;\n",
       "    }\n",
       "\n",
       "    .dataframe tbody tr th {\n",
       "        vertical-align: top;\n",
       "    }\n",
       "\n",
       "    .dataframe thead th {\n",
       "        text-align: right;\n",
       "    }\n",
       "</style>\n",
       "<table border=\"1\" class=\"dataframe\">\n",
       "  <thead>\n",
       "    <tr style=\"text-align: right;\">\n",
       "      <th></th>\n",
       "      <th>id</th>\n",
       "      <th>date</th>\n",
       "      <th>price</th>\n",
       "      <th>bedrooms</th>\n",
       "      <th>bathrooms</th>\n",
       "      <th>sqft_living</th>\n",
       "      <th>sqft_lot</th>\n",
       "      <th>floors</th>\n",
       "      <th>waterfront</th>\n",
       "      <th>view</th>\n",
       "      <th>...</th>\n",
       "      <th>zipcode</th>\n",
       "      <th>lat</th>\n",
       "      <th>long</th>\n",
       "      <th>sqft_living15</th>\n",
       "      <th>sqft_lot15</th>\n",
       "      <th>date_key</th>\n",
       "      <th>Compounding</th>\n",
       "      <th>Discounting</th>\n",
       "      <th>price_dec_15</th>\n",
       "      <th>price_dec_19</th>\n",
       "    </tr>\n",
       "  </thead>\n",
       "  <tbody>\n",
       "    <tr>\n",
       "      <td>0</td>\n",
       "      <td>5056500260</td>\n",
       "      <td>5/2/2014</td>\n",
       "      <td>440000.0</td>\n",
       "      <td>4</td>\n",
       "      <td>2.25</td>\n",
       "      <td>2160</td>\n",
       "      <td>8119</td>\n",
       "      <td>1.0</td>\n",
       "      <td>0.0</td>\n",
       "      <td>0.0</td>\n",
       "      <td>...</td>\n",
       "      <td>98006</td>\n",
       "      <td>47.5443</td>\n",
       "      <td>-122.177</td>\n",
       "      <td>1850</td>\n",
       "      <td>9000</td>\n",
       "      <td>2014-05-02</td>\n",
       "      <td>1.109072</td>\n",
       "      <td>0.901654</td>\n",
       "      <td>487991.86</td>\n",
       "      <td>598799.49</td>\n",
       "    </tr>\n",
       "  </tbody>\n",
       "</table>\n",
       "<p>1 rows × 26 columns</p>\n",
       "</div>"
      ],
      "text/plain": [
       "           id      date     price  bedrooms  bathrooms  sqft_living  sqft_lot  \\\n",
       "0  5056500260  5/2/2014  440000.0         4       2.25         2160      8119   \n",
       "\n",
       "   floors  waterfront  view  ...  zipcode      lat     long  sqft_living15  \\\n",
       "0     1.0         0.0   0.0  ...    98006  47.5443 -122.177           1850   \n",
       "\n",
       "   sqft_lot15    date_key  Compounding  Discounting  price_dec_15  \\\n",
       "0        9000  2014-05-02     1.109072     0.901654     487991.86   \n",
       "\n",
       "   price_dec_19  \n",
       "0     598799.49  \n",
       "\n",
       "[1 rows x 26 columns]"
      ]
     },
     "execution_count": 32,
     "metadata": {},
     "output_type": "execute_result"
    }
   ],
   "source": [
    "df = pd.read_csv(\"kc_housing_data_cleaned_with_15_19_prices.csv\")\n",
    "df.head(1)"
   ]
  },
  {
   "cell_type": "markdown",
   "metadata": {},
   "source": [
    "### Linear regression of the variable that correlates most highly with price."
   ]
  },
  {
   "cell_type": "code",
   "execution_count": 33,
   "metadata": {},
   "outputs": [
    {
     "data": {
      "text/html": [
       "<table class=\"simpletable\">\n",
       "<caption>OLS Regression Results</caption>\n",
       "<tr>\n",
       "  <th>Dep. Variable:</th>          <td>price</td>      <th>  R-squared:         </th>  <td>   0.492</td>  \n",
       "</tr>\n",
       "<tr>\n",
       "  <th>Model:</th>                   <td>OLS</td>       <th>  Adj. R-squared:    </th>  <td>   0.492</td>  \n",
       "</tr>\n",
       "<tr>\n",
       "  <th>Method:</th>             <td>Least Squares</td>  <th>  F-statistic:       </th>  <td>2.073e+04</td> \n",
       "</tr>\n",
       "<tr>\n",
       "  <th>Date:</th>             <td>Tue, 21 Jan 2020</td> <th>  Prob (F-statistic):</th>   <td>  0.00</td>   \n",
       "</tr>\n",
       "<tr>\n",
       "  <th>Time:</th>                 <td>09:22:46</td>     <th>  Log-Likelihood:    </th> <td>-2.9763e+05</td>\n",
       "</tr>\n",
       "<tr>\n",
       "  <th>No. Observations:</th>      <td> 21420</td>      <th>  AIC:               </th>  <td>5.953e+05</td> \n",
       "</tr>\n",
       "<tr>\n",
       "  <th>Df Residuals:</th>          <td> 21418</td>      <th>  BIC:               </th>  <td>5.953e+05</td> \n",
       "</tr>\n",
       "<tr>\n",
       "  <th>Df Model:</th>              <td>     1</td>      <th>                     </th>      <td> </td>     \n",
       "</tr>\n",
       "<tr>\n",
       "  <th>Covariance Type:</th>      <td>nonrobust</td>    <th>                     </th>      <td> </td>     \n",
       "</tr>\n",
       "</table>\n",
       "<table class=\"simpletable\">\n",
       "<tr>\n",
       "       <td></td>          <th>coef</th>     <th>std err</th>      <th>t</th>      <th>P>|t|</th>  <th>[0.025</th>    <th>0.975]</th>  \n",
       "</tr>\n",
       "<tr>\n",
       "  <th>const</th>       <td>-4.255e+04</td> <td> 4436.470</td> <td>   -9.591</td> <td> 0.000</td> <td>-5.12e+04</td> <td>-3.39e+04</td>\n",
       "</tr>\n",
       "<tr>\n",
       "  <th>sqft_living</th> <td>  280.5436</td> <td>    1.949</td> <td>  143.972</td> <td> 0.000</td> <td>  276.724</td> <td>  284.363</td>\n",
       "</tr>\n",
       "</table>\n",
       "<table class=\"simpletable\">\n",
       "<tr>\n",
       "  <th>Omnibus:</th>       <td>14710.422</td> <th>  Durbin-Watson:     </th>  <td>   1.997</td> \n",
       "</tr>\n",
       "<tr>\n",
       "  <th>Prob(Omnibus):</th>  <td> 0.000</td>   <th>  Jarque-Bera (JB):  </th> <td>541541.173</td>\n",
       "</tr>\n",
       "<tr>\n",
       "  <th>Skew:</th>           <td> 2.827</td>   <th>  Prob(JB):          </th>  <td>    0.00</td> \n",
       "</tr>\n",
       "<tr>\n",
       "  <th>Kurtosis:</th>       <td>26.975</td>   <th>  Cond. No.          </th>  <td>5.64e+03</td> \n",
       "</tr>\n",
       "</table><br/><br/>Warnings:<br/>[1] Standard Errors assume that the covariance matrix of the errors is correctly specified.<br/>[2] The condition number is large, 5.64e+03. This might indicate that there are<br/>strong multicollinearity or other numerical problems."
      ],
      "text/plain": [
       "<class 'statsmodels.iolib.summary.Summary'>\n",
       "\"\"\"\n",
       "                            OLS Regression Results                            \n",
       "==============================================================================\n",
       "Dep. Variable:                  price   R-squared:                       0.492\n",
       "Model:                            OLS   Adj. R-squared:                  0.492\n",
       "Method:                 Least Squares   F-statistic:                 2.073e+04\n",
       "Date:                Tue, 21 Jan 2020   Prob (F-statistic):               0.00\n",
       "Time:                        09:22:46   Log-Likelihood:            -2.9763e+05\n",
       "No. Observations:               21420   AIC:                         5.953e+05\n",
       "Df Residuals:                   21418   BIC:                         5.953e+05\n",
       "Df Model:                           1                                         \n",
       "Covariance Type:            nonrobust                                         \n",
       "===============================================================================\n",
       "                  coef    std err          t      P>|t|      [0.025      0.975]\n",
       "-------------------------------------------------------------------------------\n",
       "const       -4.255e+04   4436.470     -9.591      0.000   -5.12e+04   -3.39e+04\n",
       "sqft_living   280.5436      1.949    143.972      0.000     276.724     284.363\n",
       "==============================================================================\n",
       "Omnibus:                    14710.422   Durbin-Watson:                   1.997\n",
       "Prob(Omnibus):                  0.000   Jarque-Bera (JB):           541541.173\n",
       "Skew:                           2.827   Prob(JB):                         0.00\n",
       "Kurtosis:                      26.975   Cond. No.                     5.64e+03\n",
       "==============================================================================\n",
       "\n",
       "Warnings:\n",
       "[1] Standard Errors assume that the covariance matrix of the errors is correctly specified.\n",
       "[2] The condition number is large, 5.64e+03. This might indicate that there are\n",
       "strong multicollinearity or other numerical problems.\n",
       "\"\"\""
      ]
     },
     "execution_count": 33,
     "metadata": {},
     "output_type": "execute_result"
    }
   ],
   "source": [
    "x1 = df['sqft_living']\n",
    "y1 = df['price']\n",
    "X = sm.add_constant(x1)\n",
    "model_sm = sm.OLS(y1,X)\n",
    "results = model_sm.fit()\n",
    "results.summary()"
   ]
  },
  {
   "cell_type": "markdown",
   "metadata": {},
   "source": [
    "### Multi-variate regression. The variables selected had a low correlation with eachother to minimise any negative effects of colinearity."
   ]
  },
  {
   "cell_type": "code",
   "execution_count": 34,
   "metadata": {},
   "outputs": [
    {
     "data": {
      "text/html": [
       "<table class=\"simpletable\">\n",
       "<caption>OLS Regression Results</caption>\n",
       "<tr>\n",
       "  <th>Dep. Variable:</th>          <td>price</td>      <th>  R-squared:         </th>  <td>   0.535</td>  \n",
       "</tr>\n",
       "<tr>\n",
       "  <th>Model:</th>                   <td>OLS</td>       <th>  Adj. R-squared:    </th>  <td>   0.535</td>  \n",
       "</tr>\n",
       "<tr>\n",
       "  <th>Method:</th>             <td>Least Squares</td>  <th>  F-statistic:       </th>  <td>   8211.</td>  \n",
       "</tr>\n",
       "<tr>\n",
       "  <th>Date:</th>             <td>Tue, 21 Jan 2020</td> <th>  Prob (F-statistic):</th>   <td>  0.00</td>   \n",
       "</tr>\n",
       "<tr>\n",
       "  <th>Time:</th>                 <td>09:22:47</td>     <th>  Log-Likelihood:    </th> <td>-2.9668e+05</td>\n",
       "</tr>\n",
       "<tr>\n",
       "  <th>No. Observations:</th>      <td> 21420</td>      <th>  AIC:               </th>  <td>5.934e+05</td> \n",
       "</tr>\n",
       "<tr>\n",
       "  <th>Df Residuals:</th>          <td> 21416</td>      <th>  BIC:               </th>  <td>5.934e+05</td> \n",
       "</tr>\n",
       "<tr>\n",
       "  <th>Df Model:</th>              <td>     3</td>      <th>                     </th>      <td> </td>     \n",
       "</tr>\n",
       "<tr>\n",
       "  <th>Covariance Type:</th>      <td>nonrobust</td>    <th>                     </th>      <td> </td>     \n",
       "</tr>\n",
       "</table>\n",
       "<table class=\"simpletable\">\n",
       "<tr>\n",
       "       <td></td>          <th>coef</th>     <th>std err</th>      <th>t</th>      <th>P>|t|</th>  <th>[0.025</th>    <th>0.975]</th>  \n",
       "</tr>\n",
       "<tr>\n",
       "  <th>const</th>       <td>-1.693e+04</td> <td> 4285.292</td> <td>   -3.951</td> <td> 0.000</td> <td>-2.53e+04</td> <td>-8530.314</td>\n",
       "</tr>\n",
       "<tr>\n",
       "  <th>sqft_living</th> <td>  259.2335</td> <td>    1.967</td> <td>  131.783</td> <td> 0.000</td> <td>  255.378</td> <td>  263.089</td>\n",
       "</tr>\n",
       "<tr>\n",
       "  <th>sqft_lot</th>    <td>   -0.3466</td> <td>    0.042</td> <td>   -8.274</td> <td> 0.000</td> <td>   -0.429</td> <td>   -0.264</td>\n",
       "</tr>\n",
       "<tr>\n",
       "  <th>view</th>        <td> 1.026e+05</td> <td> 2332.478</td> <td>   44.005</td> <td> 0.000</td> <td> 9.81e+04</td> <td> 1.07e+05</td>\n",
       "</tr>\n",
       "</table>\n",
       "<table class=\"simpletable\">\n",
       "<tr>\n",
       "  <th>Omnibus:</th>       <td>14189.563</td> <th>  Durbin-Watson:     </th>  <td>   1.996</td> \n",
       "</tr>\n",
       "<tr>\n",
       "  <th>Prob(Omnibus):</th>  <td> 0.000</td>   <th>  Jarque-Bera (JB):  </th> <td>564063.365</td>\n",
       "</tr>\n",
       "<tr>\n",
       "  <th>Skew:</th>           <td> 2.648</td>   <th>  Prob(JB):          </th>  <td>    0.00</td> \n",
       "</tr>\n",
       "<tr>\n",
       "  <th>Kurtosis:</th>       <td>27.575</td>   <th>  Cond. No.          </th>  <td>1.11e+05</td> \n",
       "</tr>\n",
       "</table><br/><br/>Warnings:<br/>[1] Standard Errors assume that the covariance matrix of the errors is correctly specified.<br/>[2] The condition number is large, 1.11e+05. This might indicate that there are<br/>strong multicollinearity or other numerical problems."
      ],
      "text/plain": [
       "<class 'statsmodels.iolib.summary.Summary'>\n",
       "\"\"\"\n",
       "                            OLS Regression Results                            \n",
       "==============================================================================\n",
       "Dep. Variable:                  price   R-squared:                       0.535\n",
       "Model:                            OLS   Adj. R-squared:                  0.535\n",
       "Method:                 Least Squares   F-statistic:                     8211.\n",
       "Date:                Tue, 21 Jan 2020   Prob (F-statistic):               0.00\n",
       "Time:                        09:22:47   Log-Likelihood:            -2.9668e+05\n",
       "No. Observations:               21420   AIC:                         5.934e+05\n",
       "Df Residuals:                   21416   BIC:                         5.934e+05\n",
       "Df Model:                           3                                         \n",
       "Covariance Type:            nonrobust                                         \n",
       "===============================================================================\n",
       "                  coef    std err          t      P>|t|      [0.025      0.975]\n",
       "-------------------------------------------------------------------------------\n",
       "const       -1.693e+04   4285.292     -3.951      0.000   -2.53e+04   -8530.314\n",
       "sqft_living   259.2335      1.967    131.783      0.000     255.378     263.089\n",
       "sqft_lot       -0.3466      0.042     -8.274      0.000      -0.429      -0.264\n",
       "view         1.026e+05   2332.478     44.005      0.000    9.81e+04    1.07e+05\n",
       "==============================================================================\n",
       "Omnibus:                    14189.563   Durbin-Watson:                   1.996\n",
       "Prob(Omnibus):                  0.000   Jarque-Bera (JB):           564063.365\n",
       "Skew:                           2.648   Prob(JB):                         0.00\n",
       "Kurtosis:                      27.575   Cond. No.                     1.11e+05\n",
       "==============================================================================\n",
       "\n",
       "Warnings:\n",
       "[1] Standard Errors assume that the covariance matrix of the errors is correctly specified.\n",
       "[2] The condition number is large, 1.11e+05. This might indicate that there are\n",
       "strong multicollinearity or other numerical problems.\n",
       "\"\"\""
      ]
     },
     "execution_count": 34,
     "metadata": {},
     "output_type": "execute_result"
    }
   ],
   "source": [
    "# Remember to add distance to town in this analysis\n",
    "\n",
    "X1 = df[['sqft_living','sqft_lot','view']]\n",
    "y1 = df['price']\n",
    "X = sm.add_constant(X1)\n",
    "first_multi = sm.OLS(y1,X)\n",
    "results = first_multi.fit()\n",
    "results.summary()"
   ]
  },
  {
   "cell_type": "markdown",
   "metadata": {},
   "source": [
    "#### It can be seen that the inclusion of these varibales increased the R-squared value from when only a signle variable was considered. This means that the model better fits the dataset."
   ]
  },
  {
   "cell_type": "markdown",
   "metadata": {},
   "source": [
    "### Outlier treatment (decided not to remove any as it actually worsened the R-squared value)"
   ]
  },
  {
   "cell_type": "code",
   "execution_count": 35,
   "metadata": {},
   "outputs": [
    {
     "data": {
      "text/plain": [
       "<matplotlib.axes._subplots.AxesSubplot at 0x1c21141a10>"
      ]
     },
     "metadata": {},
     "output_type": "display_data"
    },
    {
     "data": {
      "text/plain": [
       "<matplotlib.axes._subplots.AxesSubplot at 0x1c206aaf10>"
      ]
     },
     "metadata": {},
     "output_type": "display_data"
    },
    {
     "data": {
      "image/png": "[encoded data removed]",
      "text/plain": [
       "<Figure size 1296x432 with 2 Axes>"
      ]
     },
     "metadata": {
      "needs_background": "light"
     },
     "output_type": "display_data"
    }
   ],
   "source": [
    "plt.figure(figsize=(18,6))\n",
    "\n",
    "plt.subplot(1, 2, 1)\n",
    "display(sns.boxplot(x = df['sqft_living']))\n",
    "\n",
    "plt.subplot(1, 2, 2)\n",
    "display(sns.boxplot(x = df['sqft_lot']))"
   ]
  },
  {
   "cell_type": "markdown",
   "metadata": {},
   "source": [
    "#### These boxplots show where the outliers sit in the data."
   ]
  },
  {
   "cell_type": "code",
   "execution_count": 36,
   "metadata": {},
   "outputs": [
    {
     "name": "stdout",
     "output_type": "stream",
     "text": [
      "4839.493524661104\n",
      "Identified outliers: 247\n",
      "Non-outlier observations: 21173\n"
     ]
    }
   ],
   "source": [
    "# calculate summary statistics\n",
    "variable = 'sqft_living'\n",
    "data_mean, data_std = mean(df[variable]), std(df[variable])\n",
    "# identify outliers\n",
    "cut_off = data_std * 3\n",
    "lower, upper = data_mean - cut_off, data_mean + cut_off\n",
    "print(upper)\n",
    "# identify outliers\n",
    "outliers = [x for x in df[variable] if x < lower or x > upper]\n",
    "print('Identified outliers: %d' % len(outliers))\n",
    "# remove outliers\n",
    "outliers_removed = [x for x in df[variable] if x >= lower and x <= upper]\n",
    "print('Non-outlier observations: %d' % len(outliers_removed))"
   ]
  },
  {
   "cell_type": "code",
   "execution_count": 37,
   "metadata": {},
   "outputs": [],
   "source": [
    "# df_original = df.copy()\n",
    "\n",
    "# variable = 'sqft_living'\n",
    "# data_mean, data_std = mean(df[variable]), std(df[variable])\n",
    "# cut_off = data_std * 3\n",
    "\n",
    "# for i in range(len(df)):\n",
    "#     if df.loc[i,variable] < (data_mean - cut_off) or df.loc[i,variable] > (data_mean + cut_off):\n",
    "#         df.drop([i], inplace=True)\n",
    "#     else:\n",
    "#         continue\n",
    "\n",
    "# print(len(df))"
   ]
  },
  {
   "cell_type": "code",
   "execution_count": 38,
   "metadata": {},
   "outputs": [],
   "source": [
    "# x1 = df['sqft_living']\n",
    "# y1 = df['price']\n",
    "# X = sm.add_constant(x1)\n",
    "# model_sm = sm.OLS(y1,X)\n",
    "# results = model_sm.fit()\n",
    "# results.summary()"
   ]
  },
  {
   "cell_type": "code",
   "execution_count": 39,
   "metadata": {},
   "outputs": [
    {
     "data": {
      "text/plain": [
       "<seaborn.axisgrid.FacetGrid at 0x1c21da1210>"
      ]
     },
     "execution_count": 39,
     "metadata": {},
     "output_type": "execute_result"
    },
    {
     "data": {
      "image/png": "[encoded data removed]",
      "text/plain": [
       "<Figure size 360x360 with 1 Axes>"
      ]
     },
     "metadata": {
      "needs_background": "light"
     },
     "output_type": "display_data"
    }
   ],
   "source": [
    "sns.lmplot(data=df, x='sqft_living',y='price')"
   ]
  },
  {
   "cell_type": "markdown",
   "metadata": {},
   "source": [
    "#### Removing the outliers resulted in a reduction in the R-squared value. The is due to the relationship of price and sqft_living not being perfectly linear. The rate of price increase with sqft_living increases as the property gets bigger."
   ]
  },
  {
   "cell_type": "markdown",
   "metadata": {},
   "source": [
    "# Isolating the desired zipcode..."
   ]
  },
  {
   "cell_type": "code",
   "execution_count": 40,
   "metadata": {},
   "outputs": [
    {
     "data": {
      "text/plain": [
       "array([98006, 98008, 98052, 98115, 98038, 98045, 98119, 98105, 98074,\n",
       "       98106, 98042, 98007, 98155, 98001, 98133, 98075, 98059, 98065,\n",
       "       98027, 98199, 98092, 98011, 98014, 98103, 98107, 98077, 98116,\n",
       "       98055, 98024, 98166, 98023, 98198, 98102, 98072, 98125, 98003,\n",
       "       98034, 98117, 98029, 98033, 98136, 98053, 98122, 98058, 98118,\n",
       "       98168, 98144, 98019, 98056, 98112, 98146, 98005, 98177, 98004,\n",
       "       98040, 98108, 98028, 98148, 98109, 98126, 98010, 98032, 98178,\n",
       "       98030, 98031, 98070, 98022, 98188, 98039, 98002])"
      ]
     },
     "execution_count": 40,
     "metadata": {},
     "output_type": "execute_result"
    }
   ],
   "source": [
    "unique_zips = df['zipcode'].unique()\n",
    "unique_zips"
   ]
  },
  {
   "cell_type": "code",
   "execution_count": 41,
   "metadata": {},
   "outputs": [
    {
     "data": {
      "text/plain": [
       "70"
      ]
     },
     "execution_count": 41,
     "metadata": {},
     "output_type": "execute_result"
    }
   ],
   "source": [
    "len(unique_zips)"
   ]
  },
  {
   "cell_type": "markdown",
   "metadata": {},
   "source": [
    "### Plotting the postcode vs the average sale price. This analysis aims to see how the importance of variables change with the price of the property."
   ]
  },
  {
   "cell_type": "code",
   "execution_count": 13,
   "metadata": {},
   "outputs": [
    {
     "data": {
      "image/png": "[encoded data removed]",
      "text/plain": [
       "<Figure size 1152x720 with 1 Axes>"
      ]
     },
     "metadata": {
      "needs_background": "light"
     },
     "output_type": "display_data"
    }
   ],
   "source": [
    "plt.figure(figsize=(16, 10))\n",
    "sns.barplot(x='zipcode',y='price',data=df)\n",
    "plt.xticks(rotation=90)\n",
    "plt.show()"
   ]
  },
  {
   "cell_type": "code",
   "execution_count": 14,
   "metadata": {},
   "outputs": [],
   "source": [
    "# zipcode = 98001\n",
    "# df_zipcode = df.loc[df['zipcode'] == zipcode]\n",
    "\n",
    "def zipcode_r_squared(df_zipcode, variable1, variable2, variable3):\n",
    "\n",
    "    X1 = df_zipcode[[variable1,variable2,variable3]]\n",
    "    y1 = df_zipcode['price']\n",
    "    X = sm.add_constant(X1)\n",
    "    first_multi = sm.OLS(y1,X)\n",
    "    results = first_multi.fit()\n",
    "    r2 = results.rsquared\n",
    "    return r2"
   ]
  },
  {
   "cell_type": "code",
   "execution_count": 15,
   "metadata": {},
   "outputs": [],
   "source": [
    "# df.loc[df['zipcode'] == 98001]"
   ]
  },
  {
   "cell_type": "code",
   "execution_count": 42,
   "metadata": {
    "scrolled": false
   },
   "outputs": [
    {
     "name": "stderr",
     "output_type": "stream",
     "text": [
      "/Users/ravimalde/opt/anaconda3/lib/python3.7/site-packages/numpy/core/fromnumeric.py:2495: FutureWarning: Method .ptp is deprecated and will be removed in a future version. Use numpy.ptp instead.\n",
      "  return ptp(axis=axis, out=out, **kwargs)\n"
     ]
    }
   ],
   "source": [
    "variable1 = 'sqft_living'\n",
    "variable2 = 'sqft_lot'\n",
    "variable3 = 'view'\n",
    "\n",
    "zipcode_r_squared_values = []\n",
    "unique_zips = df['zipcode'].unique()\n",
    "\n",
    "for zipcode in unique_zips:\n",
    "    \n",
    "    df_zipcode = df.loc[df['zipcode'] == zipcode]\n",
    "    r2 = zipcode_r_squared(df_zipcode, variable1, variable2, variable3)\n",
    "    zipcode_r_squared_values.append(r2)\n",
    "\n",
    "# zipcode_r_squared_values"
   ]
  },
  {
   "cell_type": "code",
   "execution_count": 43,
   "metadata": {},
   "outputs": [],
   "source": [
    "X1 = df[['sqft_living','sqft_lot','view']]\n",
    "y1 = df['price']\n",
    "X = sm.add_constant(X1)\n",
    "first_multi = sm.OLS(y1,X)\n",
    "results = first_multi.fit()\n",
    "r2 = results.rsquared\n",
    "\n",
    "entire_df_r_squared = [r2] * len(unique_zips)"
   ]
  },
  {
   "cell_type": "code",
   "execution_count": 44,
   "metadata": {},
   "outputs": [],
   "source": [
    "zipcode_r_squared_values_array = np.asarray(zipcode_r_squared_values)\n",
    "entire_df_r_squared_array = np.asarray(entire_df_r_squared)\n",
    "\n",
    "r_squared_difference = zipcode_r_squared_values_array - entire_df_r_squared_array\n",
    "# r_squared_difference"
   ]
  },
  {
   "cell_type": "code",
   "execution_count": 45,
   "metadata": {},
   "outputs": [],
   "source": [
    "zipcode_r_squared_dict = {'zipcode_r_squared' : zipcode_r_squared_values,\n",
    "                            'original_r_squared' : entire_df_r_squared,\n",
    "                                'r_squared_difference' : r_squared_difference}"
   ]
  },
  {
   "cell_type": "code",
   "execution_count": 46,
   "metadata": {},
   "outputs": [
    {
     "data": {
      "text/html": [
       "<div>\n",
       "<style scoped>\n",
       "    .dataframe tbody tr th:only-of-type {\n",
       "        vertical-align: middle;\n",
       "    }\n",
       "\n",
       "    .dataframe tbody tr th {\n",
       "        vertical-align: top;\n",
       "    }\n",
       "\n",
       "    .dataframe thead th {\n",
       "        text-align: right;\n",
       "    }\n",
       "</style>\n",
       "<table border=\"1\" class=\"dataframe\">\n",
       "  <thead>\n",
       "    <tr style=\"text-align: right;\">\n",
       "      <th></th>\n",
       "      <th>zipcode_r_squared</th>\n",
       "      <th>original_r_squared</th>\n",
       "      <th>r_squared_difference</th>\n",
       "    </tr>\n",
       "  </thead>\n",
       "  <tbody>\n",
       "    <tr>\n",
       "      <td>0</td>\n",
       "      <td>0.659398</td>\n",
       "      <td>0.534937</td>\n",
       "      <td>0.124461</td>\n",
       "    </tr>\n",
       "    <tr>\n",
       "      <td>1</td>\n",
       "      <td>0.698220</td>\n",
       "      <td>0.534937</td>\n",
       "      <td>0.163284</td>\n",
       "    </tr>\n",
       "    <tr>\n",
       "      <td>2</td>\n",
       "      <td>0.717879</td>\n",
       "      <td>0.534937</td>\n",
       "      <td>0.182942</td>\n",
       "    </tr>\n",
       "    <tr>\n",
       "      <td>3</td>\n",
       "      <td>0.653148</td>\n",
       "      <td>0.534937</td>\n",
       "      <td>0.118212</td>\n",
       "    </tr>\n",
       "    <tr>\n",
       "      <td>4</td>\n",
       "      <td>0.735457</td>\n",
       "      <td>0.534937</td>\n",
       "      <td>0.200520</td>\n",
       "    </tr>\n",
       "    <tr>\n",
       "      <td>...</td>\n",
       "      <td>...</td>\n",
       "      <td>...</td>\n",
       "      <td>...</td>\n",
       "    </tr>\n",
       "    <tr>\n",
       "      <td>65</td>\n",
       "      <td>0.517463</td>\n",
       "      <td>0.534937</td>\n",
       "      <td>-0.017473</td>\n",
       "    </tr>\n",
       "    <tr>\n",
       "      <td>66</td>\n",
       "      <td>0.732765</td>\n",
       "      <td>0.534937</td>\n",
       "      <td>0.197829</td>\n",
       "    </tr>\n",
       "    <tr>\n",
       "      <td>67</td>\n",
       "      <td>0.703037</td>\n",
       "      <td>0.534937</td>\n",
       "      <td>0.168100</td>\n",
       "    </tr>\n",
       "    <tr>\n",
       "      <td>68</td>\n",
       "      <td>0.907615</td>\n",
       "      <td>0.534937</td>\n",
       "      <td>0.372678</td>\n",
       "    </tr>\n",
       "    <tr>\n",
       "      <td>69</td>\n",
       "      <td>0.603612</td>\n",
       "      <td>0.534937</td>\n",
       "      <td>0.068675</td>\n",
       "    </tr>\n",
       "  </tbody>\n",
       "</table>\n",
       "<p>70 rows × 3 columns</p>\n",
       "</div>"
      ],
      "text/plain": [
       "    zipcode_r_squared  original_r_squared  r_squared_difference\n",
       "0            0.659398            0.534937              0.124461\n",
       "1            0.698220            0.534937              0.163284\n",
       "2            0.717879            0.534937              0.182942\n",
       "3            0.653148            0.534937              0.118212\n",
       "4            0.735457            0.534937              0.200520\n",
       "..                ...                 ...                   ...\n",
       "65           0.517463            0.534937             -0.017473\n",
       "66           0.732765            0.534937              0.197829\n",
       "67           0.703037            0.534937              0.168100\n",
       "68           0.907615            0.534937              0.372678\n",
       "69           0.603612            0.534937              0.068675\n",
       "\n",
       "[70 rows x 3 columns]"
      ]
     },
     "execution_count": 46,
     "metadata": {},
     "output_type": "execute_result"
    }
   ],
   "source": [
    "difference_in_r_squared = pd.DataFrame(zipcode_r_squared_dict)\n",
    "difference_in_r_squared"
   ]
  },
  {
   "cell_type": "code",
   "execution_count": 23,
   "metadata": {},
   "outputs": [
    {
     "data": {
      "text/plain": [
       "0.16110129250351246"
      ]
     },
     "execution_count": 23,
     "metadata": {},
     "output_type": "execute_result"
    }
   ],
   "source": [
    "difference_in_r_squared['r_squared_difference'].mean()"
   ]
  }
 ],
 "metadata": {
  "kernelspec": {
   "display_name": "Python 3",
   "language": "python",
   "name": "python3"
  },
  "language_info": {
   "codemirror_mode": {
    "name": "ipython",
    "version": 3
   },
   "file_extension": ".py",
   "mimetype": "text/x-python",
   "name": "python",
   "nbconvert_exporter": "python",
   "pygments_lexer": "ipython3",
   "version": "3.7.4"
  }
 },
 "nbformat": 4,
 "nbformat_minor": 2
}
